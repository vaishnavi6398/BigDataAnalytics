{
 "cells": [
  {
   "cell_type": "markdown",
   "id": "60b37e6f-4f04-4c82-9c49-e42eb8c18285",
   "metadata": {},
   "source": [
    "# Create a DataFrame in PySpark and apply basic operations such as viewing data and selecting columns."
   ]
  },
  {
   "cell_type": "code",
   "execution_count": 1,
   "id": "6485f280-f6e2-4ba9-941c-0f6521563bda",
   "metadata": {},
   "outputs": [
    {
     "data": {
      "text/html": [
       "\n",
       "        <div>\n",
       "            <p><b>SparkContext</b></p>\n",
       "\n",
       "            <p><a href=\"http://LAPTOP-HO0PB501:4044\">Spark UI</a></p>\n",
       "\n",
       "            <dl>\n",
       "              <dt>Version</dt>\n",
       "                <dd><code>v4.0.1</code></dd>\n",
       "              <dt>Master</dt>\n",
       "                <dd><code>local[*]</code></dd>\n",
       "              <dt>AppName</dt>\n",
       "                <dd><code>PySparkShell</code></dd>\n",
       "            </dl>\n",
       "        </div>\n",
       "        "
      ],
      "text/plain": [
       "<SparkContext master=local[*] appName=PySparkShell>"
      ]
     },
     "execution_count": 1,
     "metadata": {},
     "output_type": "execute_result"
    }
   ],
   "source": [
    "sc"
   ]
  },
  {
   "cell_type": "markdown",
   "id": "83efc4dc-9be7-4e7a-8d16-fa818c181c8b",
   "metadata": {},
   "source": [
    "# Dataset Overview\n",
    "Total Records: 50 students Columns: 7 → id, name, age, gender, math, science, english\n",
    "\n",
    "No missing values"
   ]
  },
  {
   "cell_type": "markdown",
   "id": "9cbd4541-227d-4c0a-a4bc-9e2024d1d7b8",
   "metadata": {},
   "source": [
    "# Demographics¶\n",
    "Age: 18 – 25 years (average ≈ 21.5)\n",
    "\n",
    "Gender: 29 Female, 21 Male"
   ]
  },
  {
   "cell_type": "markdown",
   "id": "72f58447-0fed-4abd-bdc3-36fdc67532b6",
   "metadata": {},
   "source": [
    "# Academic Performance\n",
    "Math: Range: 40 – 100 Mean: 68.9 Std. Dev.: 17.6 (high variation)\n",
    "\n",
    "Science: Range: 44 – 99 Mean: 70.2 Std. Dev.: 14.6 (moderate variation)\n",
    "\n",
    "English: Range: 42 – 100 Mean: 69.4 Std. Dev.: 18.7 (highest variation)"
   ]
  },
  {
   "cell_type": "markdown",
   "id": "62ef5cf1-00e2-41a2-9e16-260a07963cb7",
   "metadata": {},
   "source": [
    "# Key Insights\n",
    "Science is the strongest subject on average. English has the most variation in performance. Students perform differently across subjects (not uniform).\n",
    "\n"
   ]
  },
  {
   "cell_type": "code",
   "execution_count": 4,
   "id": "6e8dc579-3c13-4242-ba1c-d8d41553bea0",
   "metadata": {},
   "outputs": [],
   "source": [
    "from pyspark.sql import SparkSession\n",
    "# Step 1: Initialize Spark Session\n",
    "spark = SparkSession.builder.appName(\"BasicDataFrameOps\").getOrCreate()"
   ]
  },
  {
   "cell_type": "code",
   "execution_count": 5,
   "id": "28b261ae-fa15-4feb-9beb-0a90ce807bb1",
   "metadata": {},
   "outputs": [],
   "source": [
    "# Step 2: Read CSV file into DataFrame\n",
    "df = spark.read.csv(\"students.csv\", header=True, inferSchema=True)"
   ]
  },
  {
   "cell_type": "code",
   "execution_count": 6,
   "id": "ecbcb826-cad7-46b2-88dc-b9ee8485627a",
   "metadata": {},
   "outputs": [
    {
     "name": "stdout",
     "output_type": "stream",
     "text": [
      "=== First 5 rows ===\n",
      "+---+-------+---+------+----+-------+-------+\n",
      "| id|   name|age|gender|math|science|english|\n",
      "+---+-------+---+------+----+-------+-------+\n",
      "|  1|  Alice| 20|     F|  66|     92|     44|\n",
      "|  2|    Bob| 20|     M|  82|     52|     77|\n",
      "|  3|Charlie| 22|     F|  43|     57|     76|\n",
      "|  4|  David| 19|     M|  95|     69|     46|\n",
      "|  5|    Eva| 19|     F|  62|     44|     96|\n",
      "+---+-------+---+------+----+-------+-------+\n",
      "only showing top 5 rows\n"
     ]
    }
   ],
   "source": [
    "# === Basic Operations ===\n",
    "# 1. View first 5 rows\n",
    "print(\"=== First 5 rows ===\")\n",
    "df.show(5)"
   ]
  },
  {
   "cell_type": "code",
   "execution_count": 7,
   "id": "5f1bb686-a64b-4303-b53c-838fb2c86adc",
   "metadata": {},
   "outputs": [
    {
     "name": "stdout",
     "output_type": "stream",
     "text": [
      "=== Schema ===\n",
      "root\n",
      " |-- id: integer (nullable = true)\n",
      " |-- name: string (nullable = true)\n",
      " |-- age: integer (nullable = true)\n",
      " |-- gender: string (nullable = true)\n",
      " |-- math: integer (nullable = true)\n",
      " |-- science: integer (nullable = true)\n",
      " |-- english: integer (nullable = true)\n",
      "\n"
     ]
    }
   ],
   "source": [
    "# 2. Print schema (structure of DataFrame)\n",
    "print(\"=== Schema ===\")\n",
    "df.printSchema()"
   ]
  },
  {
   "cell_type": "code",
   "execution_count": 10,
   "id": "665d5fdf-c18f-44b9-b504-0db02cad934b",
   "metadata": {},
   "outputs": [
    {
     "name": "stdout",
     "output_type": "stream",
     "text": [
      "=== Select name and math columns ===\n",
      "+-------+----+\n",
      "|   name|math|\n",
      "+-------+----+\n",
      "|  Alice|  66|\n",
      "|    Bob|  82|\n",
      "|Charlie|  43|\n",
      "|  David|  95|\n",
      "|    Eva|  62|\n",
      "+-------+----+\n",
      "only showing top 5 rows\n"
     ]
    }
   ],
   "source": [
    "# 3. Select specific columns: name and math\n",
    "print(\"=== Select name and math columns ===\")\n",
    "df.select(\"name\", \"math\").show(5)"
   ]
  },
  {
   "cell_type": "code",
   "execution_count": 11,
   "id": "6d799ced-11ff-4df5-9c89-2bac1c8c9399",
   "metadata": {},
   "outputs": [
    {
     "name": "stdout",
     "output_type": "stream",
     "text": [
      "=== Students with math >= 80 ===\n",
      "+---+------+---+------+----+-------+-------+\n",
      "| id|  name|age|gender|math|science|english|\n",
      "+---+------+---+------+----+-------+-------+\n",
      "|  2|   Bob| 20|     M|  82|     52|     77|\n",
      "|  4| David| 19|     M|  95|     69|     46|\n",
      "| 11| Kathy| 25|     M|  85|     71|     89|\n",
      "| 12|   Leo| 24|     M|  97|     84|     83|\n",
      "| 15|Olivia| 18|     M|  87|     90|     87|\n",
      "+---+------+---+------+----+-------+-------+\n",
      "only showing top 5 rows\n"
     ]
    }
   ],
   "source": [
    "# 4. Filter students with math >= 80\n",
    "print(\"=== Students with math >= 80 ===\")\n",
    "df.filter(df.math >= 80).show(5)\n"
   ]
  },
  {
   "cell_type": "code",
   "execution_count": 12,
   "id": "225ba327-d4ad-4a8f-8ad1-9990824fb720",
   "metadata": {},
   "outputs": [
    {
     "name": "stdout",
     "output_type": "stream",
     "text": [
      "=== Sorted by science (desc) ===\n",
      "+---+------+---+------+----+-------+-------+\n",
      "| id|  name|age|gender|math|science|english|\n",
      "+---+------+---+------+----+-------+-------+\n",
      "| 27| Aaron| 25|     F|  81|     99|     44|\n",
      "| 32| Fiona| 22|     F|  48|     96|     48|\n",
      "| 33|George| 22|     M|  66|     95|     84|\n",
      "| 29|  Carl| 22|     F|  53|     92|     52|\n",
      "|  1| Alice| 20|     F|  66|     92|     44|\n",
      "+---+------+---+------+----+-------+-------+\n",
      "only showing top 5 rows\n"
     ]
    }
   ],
   "source": [
    "# 5. Sort students by science marks (descending)\n",
    "print(\"=== Sorted by science (desc) ===\")\n",
    "df.orderBy(df.science.desc()).show(5)"
   ]
  },
  {
   "cell_type": "code",
   "execution_count": 13,
   "id": "153bc56a-948c-4ce4-9bf3-aad4f50b2938",
   "metadata": {},
   "outputs": [
    {
     "name": "stdout",
     "output_type": "stream",
     "text": [
      "Total rows in dataset: 50\n"
     ]
    }
   ],
   "source": [
    "# 6. Count total rows\n",
    "print(\"Total rows in dataset:\", df.count())"
   ]
  },
  {
   "cell_type": "code",
   "execution_count": 14,
   "id": "6fd140d3-6e4a-4c4d-b50a-70fba4d4b0de",
   "metadata": {},
   "outputs": [
    {
     "name": "stdout",
     "output_type": "stream",
     "text": [
      "Columns: ['id', 'name', 'age', 'gender', 'math', 'science', 'english']\n"
     ]
    }
   ],
   "source": [
    "# 7. Show column names\n",
    "print(\"Columns:\", df.columns)"
   ]
  },
  {
   "cell_type": "markdown",
   "id": "65bb1a07-f745-48ce-854c-ee54dd33c4db",
   "metadata": {},
   "source": [
    "# Summary\n",
    "\n",
    "Initialization: The notebook initializes a Spark session and reads a CSV file named students.csv into a DataFrame.\n",
    "\n",
    "Data Viewing: It shows the first 5 rows of the DataFrame.\n",
    "\n",
    "Schema and Columns: It prints the schema of the DataFrame, showing the column names and data types, and also lists all column names.\n",
    "\n",
    "Column Selection: It selects and displays a subset of the data, specifically the name and math columns.\n",
    "\n",
    "Filtering: It filters the DataFrame to show only students with a math score greater than or equal to 80.\n",
    "\n",
    "Sorting: It sorts the students in descending order based on their science marks and displays the top 5 results.\n",
    "\n",
    "Counting: It counts and prints the total number of rows in the dataset, which is 50."
   ]
  },
  {
   "cell_type": "code",
   "execution_count": null,
   "id": "5a4cdc49-cb06-4576-8850-a66ce95bf017",
   "metadata": {},
   "outputs": [],
   "source": []
  }
 ],
 "metadata": {
  "kernelspec": {
   "display_name": "Python 3 (ipykernel)",
   "language": "python",
   "name": "python3"
  },
  "language_info": {
   "codemirror_mode": {
    "name": "ipython",
    "version": 3
   },
   "file_extension": ".py",
   "mimetype": "text/x-python",
   "name": "python",
   "nbconvert_exporter": "python",
   "pygments_lexer": "ipython3",
   "version": "3.11.1"
  }
 },
 "nbformat": 4,
 "nbformat_minor": 5
}
