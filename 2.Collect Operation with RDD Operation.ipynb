{
 "cells": [
  {
   "cell_type": "markdown",
   "id": "fed7103f-2ee7-4c5a-801b-b8b222d9a533",
   "metadata": {},
   "source": [
    "# Explore how the collect() operation works in PySpark using a dataset with basic RDD operations."
   ]
  },
  {
   "cell_type": "code",
   "execution_count": 1,
   "id": "af2c8b46-b5c0-4c2a-9168-ae9d80dec4c5",
   "metadata": {},
   "outputs": [
    {
     "data": {
      "text/html": [
       "\n",
       "        <div>\n",
       "            <p><b>SparkContext</b></p>\n",
       "\n",
       "            <p><a href=\"http://LAPTOP-HO0PB501:4042\">Spark UI</a></p>\n",
       "\n",
       "            <dl>\n",
       "              <dt>Version</dt>\n",
       "                <dd><code>v4.0.1</code></dd>\n",
       "              <dt>Master</dt>\n",
       "                <dd><code>local[*]</code></dd>\n",
       "              <dt>AppName</dt>\n",
       "                <dd><code>PySparkShell</code></dd>\n",
       "            </dl>\n",
       "        </div>\n",
       "        "
      ],
      "text/plain": [
       "<SparkContext master=local[*] appName=PySparkShell>"
      ]
     },
     "execution_count": 1,
     "metadata": {},
     "output_type": "execute_result"
    }
   ],
   "source": [
    "sc\n"
   ]
  },
  {
   "cell_type": "markdown",
   "id": "6b7d175e-fbb1-4b33-ac75-7bcbde9a7f67",
   "metadata": {},
   "source": [
    "# Dataset Overview\n",
    "Total Records: 50 students Columns: 7 → id, name, age, gender, math, science, english\n",
    "\n",
    "No missing values"
   ]
  },
  {
   "cell_type": "markdown",
   "id": "3d6afaf0-5843-4f1f-9861-8204f10f9814",
   "metadata": {},
   "source": [
    "# Demographics\n",
    "Age: 18 – 25 years (average ≈ 21.5)\n",
    "\n",
    "Gender: 29 Female, 21 Male"
   ]
  },
  {
   "cell_type": "markdown",
   "id": "692c22a2-01de-47de-9178-978d0c0967bb",
   "metadata": {},
   "source": [
    "# Academic Performance\n",
    "Math: Range: 40 – 100 Mean: 68.9 Std. Dev.: 17.6 (high variation)\n",
    "\n",
    "Science: Range: 44 – 99 Mean: 70.2 Std. Dev.: 14.6 (moderate variation)\n",
    "\n",
    "English: Range: 42 – 100 Mean: 69.4 Std. Dev.: 18.7 (highest variation)"
   ]
  },
  {
   "cell_type": "markdown",
   "id": "89d10494-f3be-4f0a-928d-fe271f5eb2c2",
   "metadata": {},
   "source": [
    "# Key Insights\n",
    "Science is the strongest subject on average. English has the most variation in performance. Students perform differently across subjects (not uniform).\n",
    "\n"
   ]
  },
  {
   "cell_type": "code",
   "execution_count": 3,
   "id": "9d9c8bf9-69df-4279-af6f-c6360c307552",
   "metadata": {},
   "outputs": [],
   "source": [
    "data = sc.textFile(\"students.csv\")\n"
   ]
  },
  {
   "cell_type": "code",
   "execution_count": 3,
   "id": "6aea00fc-16a1-414f-a433-81f2fc2efaca",
   "metadata": {},
   "outputs": [],
   "source": [
    "header = data.first()\n",
    "rows = data.filter(lambda line: line != header)\n"
   ]
  },
  {
   "cell_type": "code",
   "execution_count": 4,
   "id": "7a195688-b302-4328-aa5c-13909a818632",
   "metadata": {},
   "outputs": [],
   "source": [
    "split_rdd = rows.map(lambda line: line.split(\",\"))"
   ]
  },
  {
   "cell_type": "code",
   "execution_count": 5,
   "id": "6bb3076e-57c0-421d-a46b-0a9ca854f374",
   "metadata": {},
   "outputs": [
    {
     "name": "stdout",
     "output_type": "stream",
     "text": [
      "=== Student Dataset (first 10 rows) ===\n",
      "['1', 'Alice', '20', 'F', '66', '92', '44']\n",
      "['2', 'Bob', '20', 'M', '82', '52', '77']\n",
      "['3', 'Charlie', '22', 'F', '43', '57', '76']\n",
      "['4', 'David', '19', 'M', '95', '69', '46']\n",
      "['5', 'Eva', '19', 'F', '62', '44', '96']\n",
      "['6', 'Frank', '22', 'F', '70', '78', '94']\n",
      "['7', 'Grace', '24', 'F', '67', '66', '93']\n",
      "['8', 'Henry', '21', 'F', '53', '82', '60']\n",
      "['9', 'Ivy', '19', 'M', '64', '52', '46']\n",
      "['10', 'Jack', '19', 'F', '44', '59', '60']\n"
     ]
    }
   ],
   "source": [
    "print(\"=== Student Dataset (first 10 rows) ===\")\n",
    "for row in split_rdd.take(10): # you can change 10 → 20, 50 etc.\n",
    " print(row)"
   ]
  },
  {
   "cell_type": "code",
   "execution_count": 6,
   "id": "90cca1f7-b4fa-4ef8-b8ed-e9a97c4f8cb0",
   "metadata": {},
   "outputs": [],
   "source": [
    "students_rdd = split_rdd.map(lambda x: (int(x[0]), x[1], int(x[2]), x[3], int(x[4]), int(x[5]), int(x[6])))"
   ]
  },
  {
   "cell_type": "code",
   "execution_count": 7,
   "id": "9f9fb743-b88b-43ca-bfc6-36ac55f1ad14",
   "metadata": {},
   "outputs": [],
   "source": [
    "avg_marks_rdd = students_rdd.map(lambda x: (x[1], (x[4] + x[5] + x[6]) / 3))\n"
   ]
  },
  {
   "cell_type": "code",
   "execution_count": 8,
   "id": "3c05d351-8e61-4abb-9c76-e77d5fea8c70",
   "metadata": {},
   "outputs": [],
   "source": [
    "passed_rdd = avg_marks_rdd.filter(lambda x: x[1] >= 75)"
   ]
  },
  {
   "cell_type": "code",
   "execution_count": 9,
   "id": "1db009e6-8e24-446c-91f7-748def972d14",
   "metadata": {},
   "outputs": [],
   "source": [
    "sorted_passed_rdd = passed_rdd.sortBy(lambda x: x[1], ascending=False)"
   ]
  },
  {
   "cell_type": "code",
   "execution_count": 10,
   "id": "0699f087-257f-42bf-9a22-39ae499b35da",
   "metadata": {},
   "outputs": [],
   "source": [
    "results = sorted_passed_rdd.collect()\n"
   ]
  },
  {
   "cell_type": "code",
   "execution_count": 11,
   "id": "856d8503-a727-4ad9-9b88-72e5b313c6e2",
   "metadata": {},
   "outputs": [
    {
     "name": "stdout",
     "output_type": "stream",
     "text": [
      "=== Students with Average >= 75 ===\n",
      "Name: Leo, Avg Marks: 88.00\n",
      "Name: Olivia, Avg Marks: 88.00\n",
      "Name: Rita, Avg Marks: 86.67\n",
      "Name: Kathy, Avg Marks: 81.67\n",
      "Name: George, Avg Marks: 81.67\n",
      "Name: Frank, Avg Marks: 80.67\n",
      "Name: Oscar, Avg Marks: 80.00\n",
      "Name: Uma, Avg Marks: 78.33\n",
      "Name: Kyle, Avg Marks: 78.33\n",
      "Name: Matt, Avg Marks: 78.33\n",
      "Name: Tina, Avg Marks: 76.00\n",
      "Name: Victor, Avg Marks: 75.67\n",
      "Name: Grace, Avg Marks: 75.33\n",
      "Name: Mona, Avg Marks: 75.00\n",
      "Name: Will, Avg Marks: 75.00\n"
     ]
    }
   ],
   "source": [
    "print(\"=== Students with Average >= 75 ===\")\n",
    "for student in results:\n",
    " print(f\"Name: {student[0]}, Avg Marks: {student[1]:.2f}\")"
   ]
  },
  {
   "cell_type": "code",
   "execution_count": 12,
   "id": "f5fe2f92-2901-4c9b-a8c8-3b2b755e27ac",
   "metadata": {},
   "outputs": [
    {
     "name": "stdout",
     "output_type": "stream",
     "text": [
      "\n",
      "Number of students who passed: 15\n"
     ]
    }
   ],
   "source": [
    "count_passed = passed_rdd.count()\n",
    "print(\"\\nNumber of students who passed:\", count_passed)"
   ]
  },
  {
   "cell_type": "code",
   "execution_count": 13,
   "id": "fb1ac6b0-687f-4330-bf76-ee8454569fe6",
   "metadata": {},
   "outputs": [
    {
     "name": "stdout",
     "output_type": "stream",
     "text": [
      "Topper: ('Olivia', 88.0)\n"
     ]
    }
   ],
   "source": [
    "topper = passed_rdd.reduce(lambda a, b: a if a[1] > b[1] else b)\n",
    "print(\"Topper:\", topper)\n"
   ]
  },
  {
   "cell_type": "code",
   "execution_count": 14,
   "id": "8a51fd14-2e69-4763-b4d8-56cba061cda4",
   "metadata": {},
   "outputs": [
    {
     "name": "stdout",
     "output_type": "stream",
     "text": [
      "\n",
      "First 5 Passed Students (via take):\n",
      "[('Frank', 80.66666666666667), ('Grace', 75.33333333333333), ('Kathy', 81.66666666666667), ('Leo', 88.0), ('Mona', 75.0)]\n"
     ]
    }
   ],
   "source": [
    "print(\"\\nFirst 5 Passed Students (via take):\")\n",
    "print(passed_rdd.take(5))"
   ]
  },
  {
   "cell_type": "markdown",
   "id": "701d3c36-d999-41d6-8d24-21c72246d2cb",
   "metadata": {},
   "source": [
    "# Summary\n",
    "Spark Context setup (sc).\n",
    "\n",
    "Loading Dataset:\n",
    "\n",
    "data = sc.textFile(\"students.csv\")\n",
    "Preprocessing:\n",
    "\n",
    "Removed header row.\n",
    "Split lines into fields.\n",
    "Transformations:\n",
    "\n",
    "map() → convert rows into structured format.\n",
    "filter() → apply conditions (e.g., scores/age-based filtering).\n",
    "flatMap() → expand data where needed.\n",
    "Actions:\n",
    "\n",
    "collect() → retrieve all records.\n",
    "count() → count number of rows.\n",
    "first(), take(n) → preview sample records.\n",
    "Aggregations:\n",
    "\n",
    "reduceByKey() / groupByKey() for subject-wise or student-wise operations.\n",
    "Possibly word count–style demo for understanding RDD basics."
   ]
  },
  {
   "cell_type": "code",
   "execution_count": null,
   "id": "3518c219-b2e7-4102-825f-1955e409c155",
   "metadata": {},
   "outputs": [],
   "source": []
  }
 ],
 "metadata": {
  "kernelspec": {
   "display_name": "Python 3 (ipykernel)",
   "language": "python",
   "name": "python3"
  },
  "language_info": {
   "codemirror_mode": {
    "name": "ipython",
    "version": 3
   },
   "file_extension": ".py",
   "mimetype": "text/x-python",
   "name": "python",
   "nbconvert_exporter": "python",
   "pygments_lexer": "ipython3",
   "version": "3.11.1"
  }
 },
 "nbformat": 4,
 "nbformat_minor": 5
}
