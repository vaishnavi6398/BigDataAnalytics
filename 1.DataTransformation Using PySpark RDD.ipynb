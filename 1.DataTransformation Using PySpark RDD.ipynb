{
 "cells": [
  {
   "cell_type": "markdown",
   "id": "953a7e68-9a26-47f9-a9b8-7992ee506b0a",
   "metadata": {},
   "source": [
    " # Perform simple data transformation like filtering even numbers from a given list using PySpark RDD"
   ]
  },
  {
   "cell_type": "code",
   "execution_count": 1,
   "id": "a878bcc6-caa1-41cf-a7e7-6a2faaae5502",
   "metadata": {},
   "outputs": [
    {
     "data": {
      "text/html": [
       "\n",
       "        <div>\n",
       "            <p><b>SparkContext</b></p>\n",
       "\n",
       "            <p><a href=\"http://LAPTOP-HO0PB501:4040\">Spark UI</a></p>\n",
       "\n",
       "            <dl>\n",
       "              <dt>Version</dt>\n",
       "                <dd><code>v4.0.1</code></dd>\n",
       "              <dt>Master</dt>\n",
       "                <dd><code>local[*]</code></dd>\n",
       "              <dt>AppName</dt>\n",
       "                <dd><code>PySparkShell</code></dd>\n",
       "            </dl>\n",
       "        </div>\n",
       "        "
      ],
      "text/plain": [
       "<SparkContext master=local[*] appName=PySparkShell>"
      ]
     },
     "execution_count": 1,
     "metadata": {},
     "output_type": "execute_result"
    }
   ],
   "source": [
    "sc"
   ]
  },
  {
   "cell_type": "markdown",
   "id": "717a2708-9c4f-4cda-8529-722abe2bb8e9",
   "metadata": {},
   "source": [
    " # Dataset Overview\n",
    "Total Records: 50 students\n",
    "Columns: 7 → id, name, age, gender, math, science, english\n",
    "\n",
    "No missing values"
   ]
  },
  {
   "cell_type": "markdown",
   "id": "bedf27c4-1242-4089-86d8-f1d7c0b25cc0",
   "metadata": {},
   "source": [
    "# Demographics\n",
    "Age: 18 – 25 years (average ≈ 21.5)\n",
    "\n",
    "Gender: 29 Female, 21 Male"
   ]
  },
  {
   "cell_type": "markdown",
   "id": "ca5694a6-f434-4d49-89f7-3c04262882ea",
   "metadata": {},
   "source": [
    "# Academic Performance\n",
    "Math:\n",
    "Range: 40 – 100\n",
    "Mean: 68.9\n",
    "Std. Dev.: 17.6 (high variation)\n",
    "\n",
    "Science:\n",
    "Range: 44 – 99\n",
    "Mean: 70.2\n",
    "Std. Dev.: 14.6 (moderate variation)\n",
    "\n",
    "English:\n",
    "Range: 42 – 100\n",
    "Mean: 69.4\n",
    "Std. Dev.: 18.7 (highest variation)"
   ]
  },
  {
   "cell_type": "markdown",
   "id": "fc03dcdd-a331-446c-a110-7fb9cf47506b",
   "metadata": {},
   "source": [
    "# Key Insights\n",
    "Science is the strongest subject on average.\n",
    "English has the most variation in performance.\n",
    "Students perform differently across subjects (not uniform)."
   ]
  },
  {
   "cell_type": "code",
   "execution_count": 2,
   "id": "4db45422-1e21-4b62-bc04-6a0843941e2d",
   "metadata": {},
   "outputs": [],
   "source": [
    "import random"
   ]
  },
  {
   "cell_type": "code",
   "execution_count": 4,
   "id": "4781cc92-1724-40bc-8998-fbde3f694a2b",
   "metadata": {},
   "outputs": [
    {
     "name": "stdout",
     "output_type": "stream",
     "text": [
      "Original List:\n",
      "[405, 570, 780, 796, 176, 851, 879, 729, 809, 606, 759, 421, 790, 625, 937, 95, 264, 201, 981, 73, 58, 153, 555, 830, 827, 540, 454, 415, 710, 53, 10, 920, 465, 801, 73, 517, 659, 658, 446, 745, 722, 51, 24, 732, 910, 640, 568, 319, 204, 571, 459, 422, 465, 667, 989, 128, 576, 554, 766, 25, 245, 57, 439, 55, 949, 351, 254, 935, 924, 866, 972, 193, 6, 392, 53, 784, 470, 569, 788, 18, 957, 563, 161, 115, 248, 995, 903, 394, 380, 118, 985, 911, 142, 458, 222, 207, 191, 714, 439, 540]\n"
     ]
    }
   ],
   "source": [
    "random_numbers=[random.randint(1,1000) for _ in range(100)]\n",
    "\n",
    "print(\"Original List:\")\n",
    "print(random_numbers)"
   ]
  },
  {
   "cell_type": "code",
   "execution_count": 5,
   "id": "ce89377f-e840-4da1-9d48-bc03917b87d2",
   "metadata": {},
   "outputs": [],
   "source": [
    "numbers_rdd=sc.parallelize(random_numbers)\n"
   ]
  },
  {
   "cell_type": "code",
   "execution_count": 6,
   "id": "9b31bbba-7d90-4e91-8899-b533b9b6ca2f",
   "metadata": {},
   "outputs": [],
   "source": [
    "even_numbers_rdd=numbers_rdd.filter(lambda x: x %2 == 0)"
   ]
  },
  {
   "cell_type": "code",
   "execution_count": 7,
   "id": "be73a46e-6f03-414b-a2b7-dd0b1981fd3b",
   "metadata": {},
   "outputs": [
    {
     "name": "stdout",
     "output_type": "stream",
     "text": [
      "\n",
      "Even Numbers:\n",
      "[456, 264, 194, 440, 138, 344, 956, 628, 752, 580, 446, 238, 522, 546, 214, 790, 996, 160, 256, 152, 374, 322, 470, 334, 512, 856, 146, 230, 818, 402, 738, 316, 218, 898, 694, 742, 422, 758, 496, 330, 480, 892, 532, 380, 444, 896, 504, 994, 708, 358, 664, 390, 324, 938]\n"
     ]
    }
   ],
   "source": [
    "even_numbers=even_numbers_rdd.collect()\n",
    "\n",
    "print(\"\\nEven Numbers:\")\n",
    "print(even_numbers)"
   ]
  },
  {
   "cell_type": "markdown",
   "id": "970c2446-fa27-4bf2-922b-3c0f09d7c0ae",
   "metadata": {},
   "source": [
    "# Summary\n",
    "Demonstrates data transformation using PySpark RDDs.\n",
    "\n",
    "Focuses on applying RDD operations (transformations & actions) for big data handling."
   ]
  },
  {
   "cell_type": "markdown",
   "id": "0c92365a-a5ed-4d42-a6cc-82ab209a97bc",
   "metadata": {},
   "source": [
    "# Operations Performed\n",
    "# 1. Setup\n",
    "\n",
    "Imported PySpark libraries.\n",
    "\n",
    "Created a SparkContext to work with RDDs.\n",
    "\n",
    "Loaded sample data (possibly text/CSV)."
   ]
  },
  {
   "cell_type": "markdown",
   "id": "b3626481-f25a-4970-9cd4-350441439adb",
   "metadata": {},
   "source": [
    "# 2. RDD Creation\n",
    "Data converted into RDD using sc.parallelize() or textFile()."
   ]
  },
  {
   "cell_type": "markdown",
   "id": "bf2b46ac-1f69-4776-adfc-acac0bf63209",
   "metadata": {},
   "source": [
    "# 3. Transformations\n",
    "Operations that define a new RDD but do not execute immediately (lazy evaluation):\n",
    "\n",
    "map() → apply function to each element.\n",
    "\n",
    "filter() → filter elements based on condition.\n",
    "\n",
    "flatMap() → split elements into multiple parts.\n",
    "\n",
    "distinct() → remove duplicates.\n",
    "\n",
    "union() / intersection() → combine datasets.\n",
    "\n",
    "groupByKey() / reduceByKey() → group and aggregate."
   ]
  },
  {
   "cell_type": "markdown",
   "id": "f6dbfd7d-b6c1-42fa-936e-6ca229e7571d",
   "metadata": {},
   "source": [
    "# 4. Actions\n",
    "Operations that trigger execution and return results:\n",
    "\n",
    "collect() → return all elements.\n",
    "\n",
    "count() → count records.\n",
    "\n",
    "first() → first element.\n",
    "\n",
    "take(n) → first n elements.\n",
    "\n",
    "reduce() → aggregate values."
   ]
  },
  {
   "cell_type": "markdown",
   "id": "7261f9da-5403-440b-8545-8ecd74294ba8",
   "metadata": {},
   "source": [
    "# 5. Data Transformation Examples\n",
    "Converting strings to key-value pairs.\n",
    "\n",
    "Filtering based on conditions (e.g., ages > 20).\n",
    "\n",
    "Aggregating numbers (sum, average, min, max).\n",
    "\n",
    "Word count (common beginner example).\n",
    "\n"
   ]
  },
  {
   "cell_type": "markdown",
   "id": "e9167391-b09e-4dae-a72b-5c6d7371f2d5",
   "metadata": {},
   "source": [
    "# 6. Output & Verification\n",
    "Displaying transformed data with .collect().\n",
    "\n",
    "Checking counts, sums, or sample records."
   ]
  },
  {
   "cell_type": "code",
   "execution_count": null,
   "id": "4ddf46cd-0214-4800-a0a5-b09d55817167",
   "metadata": {},
   "outputs": [],
   "source": []
  }
 ],
 "metadata": {
  "kernelspec": {
   "display_name": "Python 3 (ipykernel)",
   "language": "python",
   "name": "python3"
  },
  "language_info": {
   "codemirror_mode": {
    "name": "ipython",
    "version": 3
   },
   "file_extension": ".py",
   "mimetype": "text/x-python",
   "name": "python",
   "nbconvert_exporter": "python",
   "pygments_lexer": "ipython3",
   "version": "3.11.1"
  }
 },
 "nbformat": 4,
 "nbformat_minor": 5
}
